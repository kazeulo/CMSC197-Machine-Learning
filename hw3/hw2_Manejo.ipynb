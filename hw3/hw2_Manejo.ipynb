{
 "cells": [
  {
   "cell_type": "markdown",
   "id": "4a3ed992-31f4-4775-8f27-0bcadc99cc56",
   "metadata": {},
   "source": [
    "## CMSC 197 Problem Set\n",
    "### Implementing Linear Regression with Gradient Descent as Optimization Function"
   ]
  },
  {
   "cell_type": "markdown",
   "id": "0c95c66d-fc8a-462e-a7f3-bb1f4acd5aa8",
   "metadata": {},
   "source": [
    "<i>Submitted by: Manejo, Kzlyr Shaira</i>"
   ]
  },
  {
   "cell_type": "code",
   "execution_count": 1,
   "id": "35da9a0e-015e-47bb-8262-7e880b507de6",
   "metadata": {},
   "outputs": [],
   "source": [
    "# import packages\n",
    "import numpy as np\n",
    "import pandas as pd\n",
    "\n",
    "import seaborn as sns\n",
    "\n",
    "# for preprocessing\n",
    "from sklearn.preprocessing import StandardScaler\n",
    "\n",
    "# for splitting data into train and test sets\n",
    "from sklearn.model_selection import train_test_split\n",
    "\n",
    "# for finding r2\n",
    "from sklearn.metrics import r2_score\n",
    "\n",
    "# for finding ols\n",
    "from sklearn.linear_model import LinearRegression\n",
    "\n",
    "# for generateing plots\n",
    "import matplotlib.pyplot as plt\n",
    "\n",
    "import random"
   ]
  },
  {
   "cell_type": "markdown",
   "id": "b37d54b6-d197-4085-9c15-08f20b61204a",
   "metadata": {},
   "source": [
    "### 1. Load Advertising.csv dataset using pandas"
   ]
  },
  {
   "cell_type": "code",
   "execution_count": 2,
   "id": "1645641b-af03-4e6b-a982-4c8730eae0f2",
   "metadata": {},
   "outputs": [],
   "source": [
    "data = pd.read_csv('data/Advertising.csv', encoding = 'latin-1')"
   ]
  },
  {
   "cell_type": "code",
   "execution_count": 3,
   "id": "e2d73b5b-e498-4e8d-b8d6-6feea39d992c",
   "metadata": {},
   "outputs": [
    {
     "data": {
      "text/html": [
       "<div>\n",
       "<style scoped>\n",
       "    .dataframe tbody tr th:only-of-type {\n",
       "        vertical-align: middle;\n",
       "    }\n",
       "\n",
       "    .dataframe tbody tr th {\n",
       "        vertical-align: top;\n",
       "    }\n",
       "\n",
       "    .dataframe thead th {\n",
       "        text-align: right;\n",
       "    }\n",
       "</style>\n",
       "<table border=\"1\" class=\"dataframe\">\n",
       "  <thead>\n",
       "    <tr style=\"text-align: right;\">\n",
       "      <th></th>\n",
       "      <th>TV</th>\n",
       "      <th>Radio</th>\n",
       "      <th>Newspaper</th>\n",
       "      <th>Sales</th>\n",
       "    </tr>\n",
       "  </thead>\n",
       "  <tbody>\n",
       "    <tr>\n",
       "      <th>0</th>\n",
       "      <td>230.1</td>\n",
       "      <td>37.8</td>\n",
       "      <td>69.2</td>\n",
       "      <td>22.1</td>\n",
       "    </tr>\n",
       "    <tr>\n",
       "      <th>1</th>\n",
       "      <td>44.5</td>\n",
       "      <td>39.3</td>\n",
       "      <td>45.1</td>\n",
       "      <td>10.4</td>\n",
       "    </tr>\n",
       "    <tr>\n",
       "      <th>2</th>\n",
       "      <td>17.2</td>\n",
       "      <td>45.9</td>\n",
       "      <td>69.3</td>\n",
       "      <td>9.3</td>\n",
       "    </tr>\n",
       "    <tr>\n",
       "      <th>3</th>\n",
       "      <td>151.5</td>\n",
       "      <td>41.3</td>\n",
       "      <td>58.5</td>\n",
       "      <td>18.5</td>\n",
       "    </tr>\n",
       "    <tr>\n",
       "      <th>4</th>\n",
       "      <td>180.8</td>\n",
       "      <td>10.8</td>\n",
       "      <td>58.4</td>\n",
       "      <td>12.9</td>\n",
       "    </tr>\n",
       "  </tbody>\n",
       "</table>\n",
       "</div>"
      ],
      "text/plain": [
       "      TV  Radio  Newspaper  Sales\n",
       "0  230.1   37.8       69.2   22.1\n",
       "1   44.5   39.3       45.1   10.4\n",
       "2   17.2   45.9       69.3    9.3\n",
       "3  151.5   41.3       58.5   18.5\n",
       "4  180.8   10.8       58.4   12.9"
      ]
     },
     "execution_count": 3,
     "metadata": {},
     "output_type": "execute_result"
    }
   ],
   "source": [
    "# removing  the unnamed:0 column\n",
    "data = data.drop(columns = ['Unnamed: 0'])\n",
    "data.head()"
   ]
  },
  {
   "cell_type": "markdown",
   "id": "700a33f1-42e3-4e47-941d-e484ada47de4",
   "metadata": {},
   "source": [
    "### 2. Standardizing each column of the dataset"
   ]
  },
  {
   "cell_type": "code",
   "execution_count": 4,
   "id": "47e45e67-db0b-4057-904e-4ca62fb7d68f",
   "metadata": {},
   "outputs": [
    {
     "data": {
      "text/html": [
       "<div>\n",
       "<style scoped>\n",
       "    .dataframe tbody tr th:only-of-type {\n",
       "        vertical-align: middle;\n",
       "    }\n",
       "\n",
       "    .dataframe tbody tr th {\n",
       "        vertical-align: top;\n",
       "    }\n",
       "\n",
       "    .dataframe thead th {\n",
       "        text-align: right;\n",
       "    }\n",
       "</style>\n",
       "<table border=\"1\" class=\"dataframe\">\n",
       "  <thead>\n",
       "    <tr style=\"text-align: right;\">\n",
       "      <th></th>\n",
       "      <th>TV</th>\n",
       "      <th>Radio</th>\n",
       "      <th>Newspaper</th>\n",
       "      <th>Sales</th>\n",
       "    </tr>\n",
       "  </thead>\n",
       "  <tbody>\n",
       "    <tr>\n",
       "      <th>0</th>\n",
       "      <td>0.969852</td>\n",
       "      <td>0.981522</td>\n",
       "      <td>1.778945</td>\n",
       "      <td>1.552053</td>\n",
       "    </tr>\n",
       "    <tr>\n",
       "      <th>1</th>\n",
       "      <td>-1.197376</td>\n",
       "      <td>1.082808</td>\n",
       "      <td>0.669579</td>\n",
       "      <td>-0.696046</td>\n",
       "    </tr>\n",
       "    <tr>\n",
       "      <th>2</th>\n",
       "      <td>-1.516155</td>\n",
       "      <td>1.528463</td>\n",
       "      <td>1.783549</td>\n",
       "      <td>-0.907406</td>\n",
       "    </tr>\n",
       "    <tr>\n",
       "      <th>3</th>\n",
       "      <td>0.052050</td>\n",
       "      <td>1.217855</td>\n",
       "      <td>1.286405</td>\n",
       "      <td>0.860330</td>\n",
       "    </tr>\n",
       "    <tr>\n",
       "      <th>4</th>\n",
       "      <td>0.394182</td>\n",
       "      <td>-0.841614</td>\n",
       "      <td>1.281802</td>\n",
       "      <td>-0.215683</td>\n",
       "    </tr>\n",
       "  </tbody>\n",
       "</table>\n",
       "</div>"
      ],
      "text/plain": [
       "         TV     Radio  Newspaper     Sales\n",
       "0  0.969852  0.981522   1.778945  1.552053\n",
       "1 -1.197376  1.082808   0.669579 -0.696046\n",
       "2 -1.516155  1.528463   1.783549 -0.907406\n",
       "3  0.052050  1.217855   1.286405  0.860330\n",
       "4  0.394182 -0.841614   1.281802 -0.215683"
      ]
     },
     "execution_count": 4,
     "metadata": {},
     "output_type": "execute_result"
    }
   ],
   "source": [
    "scaler = StandardScaler()\n",
    "standardized_data = scaler.fit_transform(data)\n",
    "standardized_data = pd.DataFrame(standardized_data, columns=['TV', 'Radio', 'Newspaper', 'Sales'])\n",
    "standardized_data.head()"
   ]
  },
  {
   "cell_type": "markdown",
   "id": "81222290-4ea4-48d8-84c0-0a9b2090a346",
   "metadata": {},
   "source": [
    "### 3. Adding an extra column for bias"
   ]
  },
  {
   "cell_type": "code",
   "execution_count": 5,
   "id": "4742ee32-18e8-4449-9d02-b711859b25db",
   "metadata": {},
   "outputs": [
    {
     "data": {
      "text/html": [
       "<div>\n",
       "<style scoped>\n",
       "    .dataframe tbody tr th:only-of-type {\n",
       "        vertical-align: middle;\n",
       "    }\n",
       "\n",
       "    .dataframe tbody tr th {\n",
       "        vertical-align: top;\n",
       "    }\n",
       "\n",
       "    .dataframe thead th {\n",
       "        text-align: right;\n",
       "    }\n",
       "</style>\n",
       "<table border=\"1\" class=\"dataframe\">\n",
       "  <thead>\n",
       "    <tr style=\"text-align: right;\">\n",
       "      <th></th>\n",
       "      <th>Bias</th>\n",
       "      <th>TV</th>\n",
       "      <th>Radio</th>\n",
       "      <th>Newspaper</th>\n",
       "      <th>Sales</th>\n",
       "    </tr>\n",
       "  </thead>\n",
       "  <tbody>\n",
       "    <tr>\n",
       "      <th>0</th>\n",
       "      <td>1</td>\n",
       "      <td>0.969852</td>\n",
       "      <td>0.981522</td>\n",
       "      <td>1.778945</td>\n",
       "      <td>1.552053</td>\n",
       "    </tr>\n",
       "    <tr>\n",
       "      <th>1</th>\n",
       "      <td>1</td>\n",
       "      <td>-1.197376</td>\n",
       "      <td>1.082808</td>\n",
       "      <td>0.669579</td>\n",
       "      <td>-0.696046</td>\n",
       "    </tr>\n",
       "    <tr>\n",
       "      <th>2</th>\n",
       "      <td>1</td>\n",
       "      <td>-1.516155</td>\n",
       "      <td>1.528463</td>\n",
       "      <td>1.783549</td>\n",
       "      <td>-0.907406</td>\n",
       "    </tr>\n",
       "    <tr>\n",
       "      <th>3</th>\n",
       "      <td>1</td>\n",
       "      <td>0.052050</td>\n",
       "      <td>1.217855</td>\n",
       "      <td>1.286405</td>\n",
       "      <td>0.860330</td>\n",
       "    </tr>\n",
       "    <tr>\n",
       "      <th>4</th>\n",
       "      <td>1</td>\n",
       "      <td>0.394182</td>\n",
       "      <td>-0.841614</td>\n",
       "      <td>1.281802</td>\n",
       "      <td>-0.215683</td>\n",
       "    </tr>\n",
       "    <tr>\n",
       "      <th>...</th>\n",
       "      <td>...</td>\n",
       "      <td>...</td>\n",
       "      <td>...</td>\n",
       "      <td>...</td>\n",
       "      <td>...</td>\n",
       "    </tr>\n",
       "    <tr>\n",
       "      <th>195</th>\n",
       "      <td>1</td>\n",
       "      <td>-1.270941</td>\n",
       "      <td>-1.321031</td>\n",
       "      <td>-0.771217</td>\n",
       "      <td>-1.234053</td>\n",
       "    </tr>\n",
       "    <tr>\n",
       "      <th>196</th>\n",
       "      <td>1</td>\n",
       "      <td>-0.617035</td>\n",
       "      <td>-1.240003</td>\n",
       "      <td>-1.033598</td>\n",
       "      <td>-0.830548</td>\n",
       "    </tr>\n",
       "    <tr>\n",
       "      <th>197</th>\n",
       "      <td>1</td>\n",
       "      <td>0.349810</td>\n",
       "      <td>-0.942899</td>\n",
       "      <td>-1.111852</td>\n",
       "      <td>-0.234898</td>\n",
       "    </tr>\n",
       "    <tr>\n",
       "      <th>198</th>\n",
       "      <td>1</td>\n",
       "      <td>1.594565</td>\n",
       "      <td>1.265121</td>\n",
       "      <td>1.640850</td>\n",
       "      <td>2.205347</td>\n",
       "    </tr>\n",
       "    <tr>\n",
       "      <th>199</th>\n",
       "      <td>1</td>\n",
       "      <td>0.993206</td>\n",
       "      <td>-0.990165</td>\n",
       "      <td>-1.005979</td>\n",
       "      <td>-0.119610</td>\n",
       "    </tr>\n",
       "  </tbody>\n",
       "</table>\n",
       "<p>200 rows × 5 columns</p>\n",
       "</div>"
      ],
      "text/plain": [
       "     Bias        TV     Radio  Newspaper     Sales\n",
       "0       1  0.969852  0.981522   1.778945  1.552053\n",
       "1       1 -1.197376  1.082808   0.669579 -0.696046\n",
       "2       1 -1.516155  1.528463   1.783549 -0.907406\n",
       "3       1  0.052050  1.217855   1.286405  0.860330\n",
       "4       1  0.394182 -0.841614   1.281802 -0.215683\n",
       "..    ...       ...       ...        ...       ...\n",
       "195     1 -1.270941 -1.321031  -0.771217 -1.234053\n",
       "196     1 -0.617035 -1.240003  -1.033598 -0.830548\n",
       "197     1  0.349810 -0.942899  -1.111852 -0.234898\n",
       "198     1  1.594565  1.265121   1.640850  2.205347\n",
       "199     1  0.993206 -0.990165  -1.005979 -0.119610\n",
       "\n",
       "[200 rows x 5 columns]"
      ]
     },
     "execution_count": 5,
     "metadata": {},
     "output_type": "execute_result"
    }
   ],
   "source": [
    "standardized_data.insert(0, 'Bias', 1)\n",
    "standardized_data"
   ]
  },
  {
   "cell_type": "code",
   "execution_count": 6,
   "id": "15c33c22-5486-4275-bd38-f9d561ca1019",
   "metadata": {},
   "outputs": [],
   "source": [
    "# idefining the x and y\n",
    "x = standardized_data.drop(columns=['Sales'])\n",
    "y = standardized_data['Sales']"
   ]
  },
  {
   "cell_type": "markdown",
   "id": "d0edebe5-2310-4972-bd1d-1f948d870a43",
   "metadata": {},
   "source": [
    "### 4. Divide the dataset into training and testing, with 0.85 and 0.15 ratio, respectively."
   ]
  },
  {
   "cell_type": "code",
   "execution_count": 7,
   "id": "f44193d1-3798-4437-95a1-330ab0abcf37",
   "metadata": {},
   "outputs": [
    {
     "name": "stdout",
     "output_type": "stream",
     "text": [
      "x_train: (170, 4)\n",
      "x_test (30, 4)\n",
      "y_train: (170, 4)\n",
      "y_test (30, 4)\n"
     ]
    }
   ],
   "source": [
    "#splitting data for training and testing\n",
    "x_train, x_test, y_train, y_test = train_test_split(x, y, random_state=11, train_size=0.85, test_size=0.15)\n",
    "\n",
    "print(\"x_train:\", x_train.shape)\n",
    "print(\"x_test\", x_test.shape)\n",
    "print(\"y_train:\", x_train.shape)\n",
    "print(\"y_test\", x_test.shape)"
   ]
  },
  {
   "cell_type": "markdown",
   "id": "d79dfd80-c401-4efb-a364-bceae0ddccb3",
   "metadata": {},
   "source": [
    "### 5. Fitting the model on the training set"
   ]
  },
  {
   "cell_type": "code",
   "execution_count": 8,
   "id": "5a3bb0df-acca-4fd8-8797-b67f025e7e80",
   "metadata": {},
   "outputs": [],
   "source": [
    "def initialize_weights():\n",
    "    return np.zeros(4)"
   ]
  },
  {
   "cell_type": "code",
   "execution_count": 9,
   "id": "062d2bd0-3c80-46bb-b4ec-8d6dd12356c8",
   "metadata": {},
   "outputs": [],
   "source": [
    "# Return predicted values for given inputs X and weights.\n",
    "def predict(x, weights):\n",
    "    return np.dot(x, weights)"
   ]
  },
  {
   "cell_type": "code",
   "execution_count": 10,
   "id": "06270f76-101d-4027-be00-c6f253a77f6d",
   "metadata": {},
   "outputs": [],
   "source": [
    "#Compute the mean squared error cost.\n",
    "def compute_cost(y, prediction):\n",
    "    m = len(y)\n",
    "    cost = (1 / (2 * m)) * np.sum((prediction - y) ** 2)\n",
    "    return cost"
   ]
  },
  {
   "cell_type": "code",
   "execution_count": 11,
   "id": "05529ffd-8a3c-4e14-a8ba-4c27301cd7ca",
   "metadata": {},
   "outputs": [],
   "source": [
    "#Compute the gradient of the cost function.\n",
    "def compute_gradient(x, y, weights):\n",
    "    m = len(y)\n",
    "    prediction = predict (x, weights)\n",
    "    error = prediction - y\n",
    "    gradients = (1 / m) * np.dot(x.T, error)\n",
    "    return gradients"
   ]
  },
  {
   "cell_type": "code",
   "execution_count": 12,
   "id": "1faa6d7a-bf66-49d9-8454-9a14893278a0",
   "metadata": {},
   "outputs": [],
   "source": [
    "def update_weights(weights, learning_rate, gradient):\n",
    "    updated_weights = weights - learning_rate * gradient\n",
    "    return updated_weights"
   ]
  },
  {
   "cell_type": "code",
   "execution_count": 13,
   "id": "baad8c92-1eee-415d-a8c2-dd3762ab3e14",
   "metadata": {},
   "outputs": [],
   "source": [
    "#Perform gradient descent\n",
    "def grad_descent(x, y, learning_rate, num_iterations):\n",
    "    weights_matrix = initialize_weights()\n",
    "    costs_matrix = []\n",
    "\n",
    "    for i in range(num_iterations):\n",
    "        predictions = predict(x, weights_matrix)\n",
    "        cost = compute_cost(y, predictions)\n",
    "        costs_matrix.append(cost)\n",
    "\n",
    "        gradients = compute_gradient(x, y, weights_matrix)\n",
    "        weights_matrix = update_weights(weights_matrix, gradients, learning_rate)\n",
    "\n",
    "    return weights_matrix, costs_matrix"
   ]
  },
  {
   "cell_type": "code",
   "execution_count": 14,
   "id": "94b3153b-16a3-4912-aa8c-2647e83e3314",
   "metadata": {},
   "outputs": [],
   "source": [
    "#Plot the cost as a function of iteration.\n",
    "def plot_costs(costs):\n",
    "    plt.figure(figsize=(15, 4))\n",
    "    plt.plot(costs)\n",
    "    plt.title(\"Cost over iterations\")\n",
    "    plt.xlabel(\"Iteration\")\n",
    "    plt.ylabel(\"Cost\")\n",
    "    plt.show()"
   ]
  },
  {
   "cell_type": "code",
   "execution_count": 15,
   "id": "e7f2bfb9-c41f-4b55-bdab-6b7abe2ac7da",
   "metadata": {},
   "outputs": [],
   "source": [
    "# defining learning rate and number of iterations\n",
    "learning_rate = 0.01\n",
    "iteration_value = 500"
   ]
  },
  {
   "cell_type": "code",
   "execution_count": 16,
   "id": "3f5670a8-bc12-438e-a4b3-e770519da5e8",
   "metadata": {},
   "outputs": [
    {
     "name": "stdout",
     "output_type": "stream",
     "text": [
      "Final weights: [ 0.00659138  0.71131187  0.54731944 -0.00808678]\n",
      "Bias:  0.006591381183889727\n",
      "TV:  0.7113118718889876\n",
      "Radio:  0.5473194394307835\n",
      "Newspaper:  -0.008086783061536044\n"
     ]
    }
   ],
   "source": [
    "# Run gradient descent\n",
    "final_weights, costs = grad_descent(x_train, y_train, learning_rate, iteration_value)\n",
    "costs_df = pd.DataFrame(costs)\n",
    "\n",
    "# final_weights\n",
    "print(\"Final weights:\", final_weights)\n",
    "print(\"Bias: \", final_weights[0])\n",
    "print(\"TV: \", final_weights[1])\n",
    "print(\"Radio: \", final_weights[2])\n",
    "print(\"Newspaper: \", final_weights[3])"
   ]
  },
  {
   "cell_type": "code",
   "execution_count": 17,
   "id": "65714215-9be8-4b49-96bb-0c66cf99fd60",
   "metadata": {},
   "outputs": [
    {
     "data": {
      "image/png": "[encoded data removed]",
      "text/plain": [
       "<Figure size 1500x400 with 1 Axes>"
      ]
     },
     "metadata": {},
     "output_type": "display_data"
    }
   ],
   "source": [
    "plot_costs(costs)"
   ]
  },
  {
   "cell_type": "markdown",
   "id": "47a2ce13-3ede-457b-8a3b-3d5b50af0813",
   "metadata": {},
   "source": [
    "### 6. Predict the quantitative response y on the train set."
   ]
  },
  {
   "cell_type": "code",
   "execution_count": 18,
   "id": "a29ba22e-8b14-4887-8a10-de0e6789b479",
   "metadata": {},
   "outputs": [
    {
     "name": "stdout",
     "output_type": "stream",
     "text": [
      "Train Set MSE: 0.04297819643950042\n",
      "\n",
      "Train Set Predictions:\n"
     ]
    },
    {
     "data": {
      "text/html": [
       "<div>\n",
       "<style scoped>\n",
       "    .dataframe tbody tr th:only-of-type {\n",
       "        vertical-align: middle;\n",
       "    }\n",
       "\n",
       "    .dataframe tbody tr th {\n",
       "        vertical-align: top;\n",
       "    }\n",
       "\n",
       "    .dataframe thead th {\n",
       "        text-align: right;\n",
       "    }\n",
       "</style>\n",
       "<table border=\"1\" class=\"dataframe\">\n",
       "  <thead>\n",
       "    <tr style=\"text-align: right;\">\n",
       "      <th></th>\n",
       "      <th>Actual</th>\n",
       "      <th>Predicted</th>\n",
       "    </tr>\n",
       "  </thead>\n",
       "  <tbody>\n",
       "    <tr>\n",
       "      <th>135</th>\n",
       "      <td>-0.465472</td>\n",
       "      <td>0.071866</td>\n",
       "    </tr>\n",
       "    <tr>\n",
       "      <th>29</th>\n",
       "      <td>-0.676832</td>\n",
       "      <td>-0.900602</td>\n",
       "    </tr>\n",
       "    <tr>\n",
       "      <th>25</th>\n",
       "      <td>-0.388614</td>\n",
       "      <td>0.242590</td>\n",
       "    </tr>\n",
       "    <tr>\n",
       "      <th>26</th>\n",
       "      <td>0.187822</td>\n",
       "      <td>0.201940</td>\n",
       "    </tr>\n",
       "    <tr>\n",
       "      <th>93</th>\n",
       "      <td>1.571268</td>\n",
       "      <td>1.342844</td>\n",
       "    </tr>\n",
       "  </tbody>\n",
       "</table>\n",
       "</div>"
      ],
      "text/plain": [
       "       Actual  Predicted\n",
       "135 -0.465472   0.071866\n",
       "29  -0.676832  -0.900602\n",
       "25  -0.388614   0.242590\n",
       "26   0.187822   0.201940\n",
       "93   1.571268   1.342844"
      ]
     },
     "execution_count": 18,
     "metadata": {},
     "output_type": "execute_result"
    }
   ],
   "source": [
    "# Predict and calculate cost for the train set\n",
    "train_predictions = predict(x_train, final_weights)\n",
    "train_mse = compute_cost(y_train, train_predictions)\n",
    "print(\"Train Set MSE:\", train_mse)\n",
    "\n",
    "train_comparison_df = pd.DataFrame({'Actual': y_train, 'Predicted': train_predictions})\n",
    "\n",
    "print(\"\\nTrain Set Predictions:\")\n",
    "train_comparison_df.head()"
   ]
  },
  {
   "cell_type": "markdown",
   "id": "cd1fb85a-e09d-4b57-b349-81f2b2876e48",
   "metadata": {},
   "source": [
    "### 7. Predict and calculate cost for the test set"
   ]
  },
  {
   "cell_type": "code",
   "execution_count": 19,
   "id": "8ba7aaf2-02d4-4fb3-8329-809826e8d38e",
   "metadata": {},
   "outputs": [
    {
     "name": "stdout",
     "output_type": "stream",
     "text": [
      "Test Set MSE: 0.1052805869352084\n",
      "\n",
      "Test Set Predictions:\n"
     ]
    },
    {
     "data": {
      "text/html": [
       "<div>\n",
       "<style scoped>\n",
       "    .dataframe tbody tr th:only-of-type {\n",
       "        vertical-align: middle;\n",
       "    }\n",
       "\n",
       "    .dataframe tbody tr th {\n",
       "        vertical-align: top;\n",
       "    }\n",
       "\n",
       "    .dataframe thead th {\n",
       "        text-align: right;\n",
       "    }\n",
       "</style>\n",
       "<table border=\"1\" class=\"dataframe\">\n",
       "  <thead>\n",
       "    <tr style=\"text-align: right;\">\n",
       "      <th></th>\n",
       "      <th>Actual</th>\n",
       "      <th>Predicted</th>\n",
       "    </tr>\n",
       "  </thead>\n",
       "  <tbody>\n",
       "    <tr>\n",
       "      <th>174</th>\n",
       "      <td>-0.484686</td>\n",
       "      <td>-0.095112</td>\n",
       "    </tr>\n",
       "    <tr>\n",
       "      <th>33</th>\n",
       "      <td>0.648971</td>\n",
       "      <td>0.881953</td>\n",
       "    </tr>\n",
       "    <tr>\n",
       "      <th>173</th>\n",
       "      <td>-0.446257</td>\n",
       "      <td>-0.406779</td>\n",
       "    </tr>\n",
       "    <tr>\n",
       "      <th>186</th>\n",
       "      <td>-0.715261</td>\n",
       "      <td>-0.836741</td>\n",
       "    </tr>\n",
       "    <tr>\n",
       "      <th>22</th>\n",
       "      <td>-1.618343</td>\n",
       "      <td>-1.384332</td>\n",
       "    </tr>\n",
       "  </tbody>\n",
       "</table>\n",
       "</div>"
      ],
      "text/plain": [
       "       Actual  Predicted\n",
       "174 -0.484686  -0.095112\n",
       "33   0.648971   0.881953\n",
       "173 -0.446257  -0.406779\n",
       "186 -0.715261  -0.836741\n",
       "22  -1.618343  -1.384332"
      ]
     },
     "execution_count": 19,
     "metadata": {},
     "output_type": "execute_result"
    }
   ],
   "source": [
    "# Predict and calculate cost for the train set\n",
    "test_predictions = predict(x_test, final_weights)\n",
    "test_mse = compute_cost(y_test, test_predictions)\n",
    "print(\"Test Set MSE:\", test_mse)\n",
    "\n",
    "test_comparison_df = pd.DataFrame({'Actual': y_test, 'Predicted': test_predictions})\n",
    "\n",
    "print(\"\\nTest Set Predictions:\")\n",
    "test_comparison_df.head()"
   ]
  },
  {
   "cell_type": "markdown",
   "id": "719ae529-758c-4b09-b735-a3d9b7492695",
   "metadata": {},
   "source": [
    "### 8. Revert back to orginal scale "
   ]
  },
  {
   "cell_type": "code",
   "execution_count": 20,
   "id": "2a23c77f-a5bd-47c7-b1bf-55fc7822f799",
   "metadata": {},
   "outputs": [
    {
     "data": {
      "text/html": [
       "<div>\n",
       "<style scoped>\n",
       "    .dataframe tbody tr th:only-of-type {\n",
       "        vertical-align: middle;\n",
       "    }\n",
       "\n",
       "    .dataframe tbody tr th {\n",
       "        vertical-align: top;\n",
       "    }\n",
       "\n",
       "    .dataframe thead th {\n",
       "        text-align: right;\n",
       "    }\n",
       "</style>\n",
       "<table border=\"1\" class=\"dataframe\">\n",
       "  <thead>\n",
       "    <tr style=\"text-align: right;\">\n",
       "      <th></th>\n",
       "      <th>TV</th>\n",
       "      <th>Radio</th>\n",
       "      <th>Newspaper</th>\n",
       "      <th>Sales</th>\n",
       "      <th>Predicted Sales</th>\n",
       "      <th>Residuals</th>\n",
       "    </tr>\n",
       "  </thead>\n",
       "  <tbody>\n",
       "    <tr>\n",
       "      <th>0</th>\n",
       "      <td>230.1</td>\n",
       "      <td>37.8</td>\n",
       "      <td>69.2</td>\n",
       "      <td>22.1</td>\n",
       "      <td>20.384036</td>\n",
       "      <td>1.715964</td>\n",
       "    </tr>\n",
       "    <tr>\n",
       "      <th>1</th>\n",
       "      <td>44.5</td>\n",
       "      <td>39.3</td>\n",
       "      <td>45.1</td>\n",
       "      <td>10.4</td>\n",
       "      <td>12.676973</td>\n",
       "      <td>-2.276973</td>\n",
       "    </tr>\n",
       "    <tr>\n",
       "      <th>2</th>\n",
       "      <td>17.2</td>\n",
       "      <td>45.9</td>\n",
       "      <td>69.3</td>\n",
       "      <td>9.3</td>\n",
       "      <td>12.719528</td>\n",
       "      <td>-3.419528</td>\n",
       "    </tr>\n",
       "    <tr>\n",
       "      <th>3</th>\n",
       "      <td>151.5</td>\n",
       "      <td>41.3</td>\n",
       "      <td>58.5</td>\n",
       "      <td>18.5</td>\n",
       "      <td>17.673508</td>\n",
       "      <td>0.826492</td>\n",
       "    </tr>\n",
       "    <tr>\n",
       "      <th>4</th>\n",
       "      <td>180.8</td>\n",
       "      <td>10.8</td>\n",
       "      <td>58.4</td>\n",
       "      <td>12.9</td>\n",
       "      <td>13.062387</td>\n",
       "      <td>-0.162387</td>\n",
       "    </tr>\n",
       "    <tr>\n",
       "      <th>...</th>\n",
       "      <td>...</td>\n",
       "      <td>...</td>\n",
       "      <td>...</td>\n",
       "      <td>...</td>\n",
       "      <td>...</td>\n",
       "      <td>...</td>\n",
       "    </tr>\n",
       "    <tr>\n",
       "      <th>195</th>\n",
       "      <td>38.2</td>\n",
       "      <td>3.7</td>\n",
       "      <td>13.8</td>\n",
       "      <td>7.6</td>\n",
       "      <td>5.600310</td>\n",
       "      <td>1.999690</td>\n",
       "    </tr>\n",
       "    <tr>\n",
       "      <th>196</th>\n",
       "      <td>94.2</td>\n",
       "      <td>4.9</td>\n",
       "      <td>8.1</td>\n",
       "      <td>9.7</td>\n",
       "      <td>8.269564</td>\n",
       "      <td>1.430436</td>\n",
       "    </tr>\n",
       "    <tr>\n",
       "      <th>197</th>\n",
       "      <td>177.0</td>\n",
       "      <td>9.3</td>\n",
       "      <td>6.4</td>\n",
       "      <td>12.8</td>\n",
       "      <td>12.709474</td>\n",
       "      <td>0.090526</td>\n",
       "    </tr>\n",
       "    <tr>\n",
       "      <th>198</th>\n",
       "      <td>283.6</td>\n",
       "      <td>42.0</td>\n",
       "      <td>66.2</td>\n",
       "      <td>25.5</td>\n",
       "      <td>23.518171</td>\n",
       "      <td>1.981829</td>\n",
       "    </tr>\n",
       "    <tr>\n",
       "      <th>199</th>\n",
       "      <td>232.1</td>\n",
       "      <td>8.6</td>\n",
       "      <td>8.7</td>\n",
       "      <td>13.4</td>\n",
       "      <td>14.957828</td>\n",
       "      <td>-1.557828</td>\n",
       "    </tr>\n",
       "  </tbody>\n",
       "</table>\n",
       "<p>200 rows × 6 columns</p>\n",
       "</div>"
      ],
      "text/plain": [
       "        TV  Radio  Newspaper  Sales  Predicted Sales  Residuals\n",
       "0    230.1   37.8       69.2   22.1        20.384036   1.715964\n",
       "1     44.5   39.3       45.1   10.4        12.676973  -2.276973\n",
       "2     17.2   45.9       69.3    9.3        12.719528  -3.419528\n",
       "3    151.5   41.3       58.5   18.5        17.673508   0.826492\n",
       "4    180.8   10.8       58.4   12.9        13.062387  -0.162387\n",
       "..     ...    ...        ...    ...              ...        ...\n",
       "195   38.2    3.7       13.8    7.6         5.600310   1.999690\n",
       "196   94.2    4.9        8.1    9.7         8.269564   1.430436\n",
       "197  177.0    9.3        6.4   12.8        12.709474   0.090526\n",
       "198  283.6   42.0       66.2   25.5        23.518171   1.981829\n",
       "199  232.1    8.6        8.7   13.4        14.957828  -1.557828\n",
       "\n",
       "[200 rows x 6 columns]"
      ]
     },
     "execution_count": 20,
     "metadata": {},
     "output_type": "execute_result"
    }
   ],
   "source": [
    "# Add a new column which is the predicted sales\n",
    "predicted_sales = predict(standardized_data[['Bias', 'TV', 'Radio', 'Newspaper']], final_weights)\n",
    "\n",
    "# Use the original mean and std for reverting predictions\n",
    "sales_mean = data['Sales'].mean()\n",
    "sales_std = data['Sales'].std()\n",
    "\n",
    "# Revert predicted sales to original scale\n",
    "reverted_predicted_sales = predicted_sales * sales_std + sales_mean\n",
    "\n",
    "# Prepare the DataFrame for comparison\n",
    "standardized_data = standardized_data.drop(columns = ['Bias'])\n",
    "reverted_df = scaler.inverse_transform(standardized_data)\n",
    "reverted_df = pd.DataFrame(reverted_df, columns=['TV', 'Radio', 'Newspaper', 'Sales'])\n",
    "reverted_df['Predicted Sales'] = reverted_predicted_sales\n",
    "\n",
    "#Insert Residuals column\n",
    "reverted_df['Residuals'] = reverted_df['Sales'] - reverted_df['Predicted Sales']\n",
    "\n",
    "# Display the final DataFrame\n",
    "reverted_df"
   ]
  },
  {
   "cell_type": "markdown",
   "id": "22536b0c-91ea-4f24-bb6b-8cb941968e6b",
   "metadata": {},
   "source": [
    "## Questions"
   ]
  },
  {
   "cell_type": "markdown",
   "id": "9558113b-9e4b-4d8b-946f-8b6a1c23a70e",
   "metadata": {},
   "source": [
    "### 1. What are the optimal weights found by your implemented gradient descent? "
   ]
  },
  {
   "cell_type": "code",
   "execution_count": 21,
   "id": "31c451de-d86b-4d67-b960-713a26a9195e",
   "metadata": {},
   "outputs": [
    {
     "name": "stdout",
     "output_type": "stream",
     "text": [
      "The optimal weights are: [ 0.00659138  0.71131187  0.54731944 -0.00808678]\n",
      "hΘ(x) = 0.006591381183889727 + 0.7113118718889876*TV + 0.5473194394307835*Radio + -0.008086783061536044*Newspaper\n"
     ]
    }
   ],
   "source": [
    "print(\"The optimal weights are:\",  final_weights)\n",
    "\n",
    "print(f\"hΘ(x) = {final_weights[0]} + {final_weights[1]}*TV + {final_weights[2]}*Radio + {final_weights[3]}*Newspaper\")"
   ]
  },
  {
   "cell_type": "markdown",
   "id": "c6a1d350-79d1-43cc-a272-096672e4f63e",
   "metadata": {},
   "source": [
    "### 2. Provide a scatter plot of the y_hat and y for both the train and test seet. Is there a trend? Provide an r2 score."
   ]
  },
  {
   "cell_type": "code",
   "execution_count": 34,
   "id": "adf9ee9b-547f-4860-9653-7ac8c039a76d",
   "metadata": {},
   "outputs": [
    {
     "data": {
      "image/png": "[encoded data removed]",
      "text/plain": [
       "<Figure size 1500x600 with 1 Axes>"
      ]
     },
     "metadata": {},
     "output_type": "display_data"
    }
   ],
   "source": [
    "# Scatter plot of actual and predicted y values \n",
    "prediction_train = predict(x_train, final_weights)\n",
    "plt.figure(figsize=(15, 6))\n",
    "plt.scatter(y_train, prediction_train)\n",
    "plt.xlabel('y')\n",
    "plt.ylabel('y_hat')\n",
    "plt.title('y_hat vs y for taining set')\n",
    "plt.plot(y_train, y_train, color='red')\n",
    "plt.show()"
   ]
  },
  {
   "cell_type": "code",
   "execution_count": 23,
   "id": "a1e30b59-da6c-45dc-9826-37494aa66260",
   "metadata": {},
   "outputs": [
    {
     "name": "stdout",
     "output_type": "stream",
     "text": [
      "The r2 score is  0.9090111358500259\n"
     ]
    }
   ],
   "source": [
    "#r2 score of the train set\n",
    "r2_train = r2_score(y_train, prediction_train)\n",
    "print(\"The r2 score is \", r2_train)"
   ]
  },
  {
   "cell_type": "code",
   "execution_count": 35,
   "id": "94a305d5-3dbb-4c34-9e70-2e65babec844",
   "metadata": {},
   "outputs": [
    {
     "data": {
      "image/png": "[encoded data removed]",
      "text/plain": [
       "<Figure size 1500x600 with 1 Axes>"
      ]
     },
     "metadata": {},
     "output_type": "display_data"
    }
   ],
   "source": [
    "# Scatter plot of actual and predicted y values \n",
    "prediction_test = predict(x_test, final_weights)\n",
    "plt.figure(figsize=(15, 6))\n",
    "plt.scatter(y_test, prediction_test)\n",
    "plt.xlabel('y')\n",
    "plt.ylabel('y_hat')\n",
    "plt.title('y_hat vs y for testing set')\n",
    "plt.plot(y_test, y_test, color='red')\n",
    "plt.show()"
   ]
  },
  {
   "cell_type": "code",
   "execution_count": 25,
   "id": "2c98c105-8908-4dc4-a339-daee92692b8f",
   "metadata": {},
   "outputs": [
    {
     "name": "stdout",
     "output_type": "stream",
     "text": [
      "The r2 score of test set is  0.8395263718413619\n"
     ]
    }
   ],
   "source": [
    "#r2 score of the test set\n",
    "r2_test = r2_score(y_test, prediction_test)\n",
    "print(\"The r2 score of test set is \", r2_test)"
   ]
  },
  {
   "cell_type": "markdown",
   "id": "20f8c4f6-521d-4a39-8f68-938a89291bf1",
   "metadata": {},
   "source": [
    "### 3. What happens to the error, r2, and cost as the number of iterations increase?"
   ]
  },
  {
   "cell_type": "code",
   "execution_count": 26,
   "id": "138db787-8f98-4943-86dc-df65d95bc80c",
   "metadata": {},
   "outputs": [
    {
     "name": "stdout",
     "output_type": "stream",
     "text": [
      "Final weights: [ 0.00494629  0.71711769  0.55754737 -0.02140822]\n",
      "Final cost: 0.04287290130692874\n",
      "Final R²: 0.909234055500149\n"
     ]
    }
   ],
   "source": [
    "# function to calculate R²\n",
    "def calculate_r2(y_true, y_pred):\n",
    "    return r2_score(y_true, y_pred)\n",
    "\n",
    "# modified grad_descent function to get R2 values\n",
    "def grad_descent_with_r2(x, y, learning_rate, num_iterations):\n",
    "    weights_matrix = initialize_weights()\n",
    "    costs_matrix = []\n",
    "    r2_values = []\n",
    "\n",
    "    for i in range(num_iterations):\n",
    "        predictions = predict(x, weights_matrix)\n",
    "        cost = compute_cost(y, predictions)\n",
    "        costs_matrix.append(cost)\n",
    "        \n",
    "        # Calculate R² and store it\n",
    "        r2 = calculate_r2(y, predictions)\n",
    "        r2_values.append(r2)\n",
    "\n",
    "        gradients = compute_gradient(x, y, weights_matrix)\n",
    "        weights_matrix = update_weights(weights_matrix, learning_rate, gradients)\n",
    "\n",
    "    return weights_matrix, costs_matrix, r2_values\n",
    "\n",
    "# Run gradient descent with R² calculations\n",
    "final_weights, costs, r2_values = grad_descent_with_r2(x_train, y_train, learning_rate, 5000)\n",
    "\n",
    "plt.subplot(1, 2, 2)\n",
    "plt.plot(r2_values)\n",
    "plt.title(\"R² over iterations\")\n",
    "plt.xlabel(\"Iteration\")\n",
    "plt.ylabel(\"R²\")\n",
    "plt.show()\n",
    "\n",
    "# Output final weights, cost, and R²\n",
    "print(\"Final weights:\", final_weights)\n",
    "print(\"Final cost:\", costs[-1])\n",
    "print(\"Final R²:\", r2_values[-1])"
   ]
  },
  {
   "cell_type": "code",
   "execution_count": 27,
   "id": "f637ee8a-7b2c-484f-8031-1d8f3769652e",
   "metadata": {},
   "outputs": [
    {
     "data": {
      "text/plain": [
       "<function matplotlib.pyplot.show(close=None, block=None)>"
      ]
     },
     "execution_count": 27,
     "metadata": {},
     "output_type": "execute_result"
    },
    {
     "data": {
      "image/png": "[encoded data removed]",
      "text/plain": [
       "<Figure size 1500x600 with 1 Axes>"
      ]
     },
     "metadata": {},
     "output_type": "display_data"
    }
   ],
   "source": [
    "# Plotting costs\n",
    "plt.figure(figsize=(15, 6))\n",
    "plt.plot(costs)\n",
    "plt.title(\"Cost over iterations\")\n",
    "plt.xlabel(\"Iteration\")\n",
    "plt.ylabel(\"Cost\")\n",
    "plt.show"
   ]
  },
  {
   "cell_type": "code",
   "execution_count": 28,
   "id": "61614887-75c0-4883-81bf-ef0546f86c3a",
   "metadata": {},
   "outputs": [
    {
     "data": {
      "image/png": "[encoded data removed]",
      "text/plain": [
       "<Figure size 1500x600 with 1 Axes>"
      ]
     },
     "metadata": {},
     "output_type": "display_data"
    }
   ],
   "source": [
    "# Plotting r2 vaues\n",
    "plt.figure(figsize=(15, 6))\n",
    "plt.plot(r2_values)\n",
    "plt.title(\"R² over iterations\")\n",
    "plt.xlabel(\"Iteration\")\n",
    "plt.ylabel(\"R²\")\n",
    "plt.show()"
   ]
  },
  {
   "cell_type": "markdown",
   "id": "e5ead692-5767-4ad5-b6a7-4e1ac842d7b0",
   "metadata": {},
   "source": [
    "As we can see from the plots, the cost value decreases as the number of iterations increases, indicating that the model's predictions are getting closer to the actual values. On the otherhand, the r2 value increases as the number of iterations increases. This implies that the model explains a larger portion of the variance in the target variable. However, as we can observe from the plots, the difference with 1000 and 5000 iterations is very minor. Hence, we can say that 1000 iterations is more than enough."
   ]
  },
  {
   "cell_type": "markdown",
   "id": "302d701c-56a5-43e8-95a5-e54b6aa4e82f",
   "metadata": {},
   "source": [
    "### 4. Checking the effect on the cost and error as learning rate changes. Learning rates used here include 0.2, 0.1, 0.01, 0.001, 0.0001."
   ]
  },
  {
   "cell_type": "code",
   "execution_count": 29,
   "id": "51e04e8f-3f09-4d6a-821d-d1e4c91b4b84",
   "metadata": {},
   "outputs": [],
   "source": [
    "# List of learning rates to try\n",
    "learning_rates = [0.2, 0.1, 0.01, 0.001, 0.0001]\n",
    "\n",
    "# Initialize a dictionary to store weights and costs\n",
    "results = {}\n",
    "\n",
    "# Run gradient descent for each learning rate\n",
    "for lr in learning_rates:\n",
    "    weights, costs = grad_descent(x_train, y_train, lr, 400)\n",
    "    results[lr] = {'weights': weights, 'costs': costs}\n",
    "\n",
    "# Initialize a dictionary to store costs DataFrames\n",
    "cost_dfs = {lr: pd.DataFrame(data['costs'], columns=['Cost']) for lr, data in results.items()}"
   ]
  },
  {
   "cell_type": "code",
   "execution_count": 30,
   "id": "9d091e7c-069a-4523-ad65-26954b8eb7f6",
   "metadata": {},
   "outputs": [
    {
     "data": {
      "image/png": "[encoded data removed]",
      "text/plain": [
       "<Figure size 1400x800 with 1 Axes>"
      ]
     },
     "metadata": {},
     "output_type": "display_data"
    }
   ],
   "source": [
    "# Concatenate all costs into one DataFrame\n",
    "df_costs = pd.concat(cost_dfs.values(), axis=1)\n",
    "df_costs.columns = [str(lr) for lr in learning_rates]  # Assign learning rates as columns\n",
    "\n",
    "# Reset index to get a simple range index\n",
    "df_costs.reset_index(drop=False, inplace=True)\n",
    "\n",
    "# Define dimensions for the plot\n",
    "fig, ax = plt.subplots(figsize=(14, 8))\n",
    "plt.xlabel(\"Number of Iterations\")\n",
    "plt.ylabel(\"Cost\")\n",
    "\n",
    "# Melt the DataFrame for seaborn\n",
    "melted_df = df_costs.melt(id_vars='index', var_name='Learning Rate', value_name='Cost')\n",
    "\n",
    "# Call lineplot of seaborn\n",
    "sns.lineplot(data=melted_df, x='index', y='Cost', hue='Learning Rate', ax=ax)\n",
    "plt.title(\"Cost vs. Number of Iterations for Different Learning Rates\")\n",
    "plt.show()"
   ]
  },
  {
   "cell_type": "markdown",
   "id": "f6826df3-2a86-49d4-8cb4-25656bfdc45f",
   "metadata": {},
   "source": [
    "As we can observe from the figure above, when the learning rate is too small, such as 0.0001 or 0.001, the cost remains high and decreases very slowly. This indicates that the model is making minimal progress toward minimizing the cost, which can lead to long training times. On the other hand, when the learning rate is high, like 0.1 or 0.2, the cost function shows significant fluctuations, often overshooting the minimum and leading to instability. "
   ]
  },
  {
   "cell_type": "markdown",
   "id": "cb9f5ec9-7def-4274-b89e-f3d1bbf868d7",
   "metadata": {},
   "source": [
    "### 5. Is there a relationship on the learning rate and the number of iterations?"
   ]
  },
  {
   "cell_type": "markdown",
   "id": "ccc84248-e9db-414c-9999-43ece17b5dfa",
   "metadata": {},
   "source": [
    "With higher learning rate, finding the minimum cost may require less number of iterations but it may also cause the algorithm to overshoot the minimum cost when the iteration is higher than the optimal. On the otherhand a lower learning rate provides more precise updates on the minimum cost but it requires more iterations, taking too much time and requiring more resources.\n",
    "\n",
    "Therefore, it is important to find the balance between the learning rate and number of iterations for efficient model training."
   ]
  },
  {
   "cell_type": "markdown",
   "id": "8f4e1abd-3f5a-4b5e-8bd6-96355164c83d",
   "metadata": {},
   "source": [
    "### 6. Compare the results with the results of ordinary least squares function."
   ]
  },
  {
   "cell_type": "code",
   "execution_count": 31,
   "id": "7820ac5b-956a-4fb9-9df0-d497f1d2cadb",
   "metadata": {},
   "outputs": [],
   "source": [
    "from sklearn.linear_model import LinearRegression\n",
    "from sklearn.metrics import r2_score\n",
    "\n",
    "# Fit the OLS model\n",
    "ols_model = LinearRegression()\n",
    "ols_model.fit(x_train, y_train)\n",
    "\n",
    "# Get predictions for both training and testing sets\n",
    "ols_predictions_train = ols_model.predict(x_train)\n",
    "ols_predictions_test = ols_model.predict(x_test)\n",
    "\n",
    "# Calculate R² scores\n",
    "ols_r2_train = r2_score(y_train, ols_predictions_train)\n",
    "ols_r2_test = r2_score(y_test, ols_predictions_test)\n",
    "\n",
    "# Get the OLS weights\n",
    "ols_weights = np.insert(ols_model.coef_, 0, ols_model.intercept_)"
   ]
  },
  {
   "cell_type": "code",
   "execution_count": 32,
   "id": "3d65da29-3305-4cde-8937-71fa851251d8",
   "metadata": {},
   "outputs": [
    {
     "name": "stdout",
     "output_type": "stream",
     "text": [
      "Gradient Descent Final Weights: [ 0.00494629  0.71711769  0.55754737 -0.02140822]\n",
      "OLS Weights: [ 0.00494629  0.          0.71711769  0.55754737 -0.02140822]\n",
      "\n",
      "\n",
      "Gradient Descent R2 score (train): 0.9090111358500259\n",
      "Gradient Descent R2 score (test): 0.8395263718413619\n",
      "\n",
      "\n",
      "OLS R2 score (train): 0.909234055500149\n",
      "OLS R2 score (test): 0.8389920333189634\n"
     ]
    }
   ],
   "source": [
    "print(\"Gradient Descent Final Weights:\", final_weights)\n",
    "print(\"OLS Weights:\", ols_weights)\n",
    "print(\"\\n\")\n",
    "\n",
    "print(\"Gradient Descent R2 score (train):\", r2_train)\n",
    "print(\"Gradient Descent R2 score (test):\", r2_test)\n",
    "print(\"\\n\")\n",
    "\n",
    "print(\"OLS R2 score (train):\", ols_r2_train)\n",
    "print(\"OLS R2 score (test):\", ols_r2_test)"
   ]
  },
  {
   "cell_type": "markdown",
   "id": "74b6a26f-3af5-41b0-a0ce-627a68d62fe7",
   "metadata": {},
   "source": [
    "Since the r2 score of gradient descent is slightly higher compared to the r2 score of OLS function, hence we can say that the gradient descent performed better."
   ]
  }
 ],
 "metadata": {
  "kernelspec": {
   "display_name": "Python 3 (ipykernel)",
   "language": "python",
   "name": "python3"
  },
  "language_info": {
   "codemirror_mode": {
    "name": "ipython",
    "version": 3
   },
   "file_extension": ".py",
   "mimetype": "text/x-python",
   "name": "python",
   "nbconvert_exporter": "python",
   "pygments_lexer": "ipython3",
   "version": "3.12.4"
  }
 },
 "nbformat": 4,
 "nbformat_minor": 5
}
